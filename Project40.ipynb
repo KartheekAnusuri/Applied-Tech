{
  "nbformat": 4,
  "nbformat_minor": 0,
  "metadata": {
    "colab": {
      "provenance": [],
      "include_colab_link": true
    },
    "kernelspec": {
      "name": "python3",
      "display_name": "Python 3"
    }
  },
  "cells": [
    {
      "cell_type": "markdown",
      "metadata": {
        "id": "view-in-github",
        "colab_type": "text"
      },
      "source": [
        "<a href=\"https://colab.research.google.com/github/KartheekAnusuri/Applied-Tech/blob/main/Project40.ipynb\" target=\"_parent\"><img src=\"https://colab.research.google.com/assets/colab-badge.svg\" alt=\"Open In Colab\"/></a>"
      ]
    },
    {
      "cell_type": "markdown",
      "metadata": {
        "id": "YZnBY81YDCCr"
      },
      "source": [
        "### Instructions"
      ]
    },
    {
      "cell_type": "markdown",
      "metadata": {
        "id": "fIKnY8occu37"
      },
      "source": [
        "#### Goal of the Project\n",
        "\n",
        "This project is designed for you to practice and solve the activities that are based on the concepts covered in the following lessons\n",
        "\n",
        "1. String Operations\n",
        "\n",
        "2. The `datetime` module\n"
      ]
    },
    {
      "cell_type": "markdown",
      "metadata": {
        "id": "YUkqcU3lMriL"
      },
      "source": [
        "---"
      ]
    },
    {
      "cell_type": "markdown",
      "metadata": {
        "id": "BBqkpH4_Doqe"
      },
      "source": [
        "---"
      ]
    },
    {
      "cell_type": "markdown",
      "metadata": {
        "id": "H0P9F3DUf8x2"
      },
      "source": [
        "### Activities\n",
        "\n",
        "\n",
        "  "
      ]
    },
    {
      "cell_type": "markdown",
      "metadata": {
        "id": "BVT9G_baB1aq"
      },
      "source": [
        "#### Activity 1:  Words Emphasised\n",
        "\n",
        "The challenge is to recreate the functionality of the `title()` method by creating a function called `emphasise()`.\n",
        "\n",
        "The `title()` function capitalises the first letter of every word. Similarly, our  `emphasise()` function should also capitalise the first letter of every word **without** using the built-in `title()` function of Python.\n",
        "\n",
        "**Constraints:**\n",
        "\n",
        "- You won't run into any issues when dealing with numbers.\n",
        "\n",
        "- Please don't use the `title()` method directly\n",
        "\n",
        "**Examples**\n",
        "```\n",
        "1. emphasise(\"hello world\") ➞ \"Hello World\"\n",
        "\n",
        "2. emphasise(\"GOOD MORNING\") ➞ \"Good Morning\"\n",
        "\n",
        "3. emphasise(\"99 red balloons!\") ➞ \"99 Red Balloons!\"\n",
        "```\n",
        "\n",
        "\n"
      ]
    },
    {
      "cell_type": "code",
      "metadata": {
        "id": "0pIGxKG9B3mb",
        "colab": {
          "base_uri": "https://localhost:8080/"
        },
        "outputId": "767f49dc-3575-46a1-8123-1476724b6306"
      },
      "source": [
        "# Write your solution here to capitalise the first letter of every word\n",
        "def emphasise(sentence):\n",
        "    # Split the sentence into a list of words\n",
        "    words = sentence.split()\n",
        "\n",
        "    # Capitalize the first letter of each word and join them back to form the emphasized sentence\n",
        "    emphasized_sentence = ' '.join(word[0].upper() + word[1:] for word in words)\n",
        "\n",
        "    return emphasized_sentence\n",
        "\n",
        "# Test cases\n",
        "print(emphasise(\"hello world\"))\n",
        "print(emphasise(\"GOOD MORNING\"))\n",
        "print(emphasise(\"99 red balloons!\"))"
      ],
      "execution_count": null,
      "outputs": [
        {
          "output_type": "stream",
          "name": "stdout",
          "text": [
            "Hello World\n",
            "GOOD MORNING\n",
            "99 Red Balloons!\n"
          ]
        }
      ]
    },
    {
      "cell_type": "markdown",
      "metadata": {
        "id": "IJIZASayCpEW"
      },
      "source": [
        "---"
      ]
    },
    {
      "cell_type": "markdown",
      "metadata": {
        "id": "5kBinzKxn3hd"
      },
      "source": [
        "#### Activity 2: Friday the 13th\n",
        "\n",
        "Given the `month` and `year` as numbers, check whether that month contains a 'Friday 13th'.\n",
        "\n",
        "**Notes**:\n",
        "\n",
        "1. For `month`, January will be given as 1, February as 2, etc ...\n",
        "\n",
        "\n",
        "**Sample Inputs and Outputs:**\n",
        "```\n",
        "a. 3, 2020 ➞ True\n",
        "\n",
        "b. 10, 2017 ➞ True\n",
        "\n",
        "c. 1, 1985 ➞ False\n",
        "```\n",
        "\n",
        "**Hint:**\n",
        "\n",
        "The `weekday()` function of date class in datetime module, is used to return an integer corresponding to the day of the week, where,\n",
        "\n",
        "`0` is returned for `Monday`\n",
        "\n",
        "`1` is returned for `Tuesday`\n",
        "\n",
        "`2` is returned for `Wednesday`\n",
        "\n",
        ".\n",
        "\n",
        ".\n",
        "\n",
        ".\n",
        "\n",
        "`6` is returned for `Sunday`\n",
        "\n",
        "**For example:**\n",
        "\n",
        "`dt(y, m, 13).weekday()` will return `4` indicating that it is the 4th day of the week i.e. `Friday`.\n",
        "\n",
        "**Syntax**: `dt(year, month, date).weekday()`"
      ]
    },
    {
      "cell_type": "code",
      "metadata": {
        "id": "4gjDvOhzn6TL",
        "colab": {
          "base_uri": "https://localhost:8080/"
        },
        "outputId": "be8eb9b5-f2dc-42ab-94b3-63787b9b3800"
      },
      "source": [
        "# Write your solution here\n",
        "import datetime\n",
        "\n",
        "def is_friday_13th(month, year):\n",
        "    # Create a datetime object for the 13th day of the given month and year\n",
        "    date_obj = datetime.date(year, month, 13)\n",
        "\n",
        "    # Use the weekday() function to get the day of the week (0 for Monday, 6 for Sunday)\n",
        "    day_of_week = date_obj.weekday()\n",
        "\n",
        "    # Check if the day of the week is Friday (4) and return True if it is\n",
        "    return day_of_week == 4\n",
        "\n",
        "# Test cases\n",
        "print(is_friday_13th(3, 2020))\n",
        "print(is_friday_13th(10, 2017))\n",
        "print(is_friday_13th(1, 1985))"
      ],
      "execution_count": null,
      "outputs": [
        {
          "output_type": "stream",
          "name": "stdout",
          "text": [
            "True\n",
            "True\n",
            "False\n"
          ]
        }
      ]
    },
    {
      "cell_type": "markdown",
      "metadata": {
        "id": "vGt-y4xp2UWT"
      },
      "source": [
        "---"
      ]
    },
    {
      "cell_type": "markdown",
      "metadata": {
        "id": "kwoJJ4frM6GA"
      },
      "source": [
        "---"
      ]
    }
  ]
}