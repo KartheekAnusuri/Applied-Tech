{
  "nbformat": 4,
  "nbformat_minor": 0,
  "metadata": {
    "colab": {
      "provenance": [],
      "include_colab_link": true
    },
    "kernelspec": {
      "name": "python3",
      "display_name": "Python 3"
    }
  },
  "cells": [
    {
      "cell_type": "markdown",
      "metadata": {
        "id": "view-in-github",
        "colab_type": "text"
      },
      "source": [
        "<a href=\"https://colab.research.google.com/github/KartheekAnusuri/Applied-Tech/blob/main/Project46.ipynb\" target=\"_parent\"><img src=\"https://colab.research.google.com/assets/colab-badge.svg\" alt=\"Open In Colab\"/></a>"
      ]
    },
    {
      "cell_type": "markdown",
      "metadata": {
        "id": "YZnBY81YDCCr"
      },
      "source": [
        "### Instructions"
      ]
    },
    {
      "cell_type": "markdown",
      "metadata": {
        "id": "fIKnY8occu37"
      },
      "source": [
        "#### Goal of the Project\n",
        "\n",
        "This project is designed for you to practice and solve the activities that are based on the concepts covered in the following lessons:\n",
        "\n",
        "1. While Loop, Data-Type Conversion and Conditional Statements\n",
        "\n",
        "2. Python Lists"
      ]
    },
    {
      "cell_type": "markdown",
      "metadata": {
        "id": "zgHlhOmHtpGt"
      },
      "source": [
        "---"
      ]
    },
    {
      "cell_type": "markdown",
      "metadata": {
        "id": "BBqkpH4_Doqe"
      },
      "source": [
        "---"
      ]
    },
    {
      "cell_type": "markdown",
      "metadata": {
        "id": "H0P9F3DUf8x2"
      },
      "source": [
        "### Activities\n",
        "\n",
        "\n",
        "  "
      ]
    },
    {
      "cell_type": "markdown",
      "metadata": {
        "id": "0dG-Pm9-UpYh"
      },
      "source": [
        "#### Activity 1: Intersecting Intervals\n",
        "\n",
        "Create a function that accepts a list of `intervals` and a `point` as parameters and returns how many intervals **overlap** with that given `point`.\n",
        "\n",
        "An `interval` overlaps a particular `point` if the `point` exists inside the `interval` or on the interval's boundary. For example, the point `3` overlaps with the interval `[2, 4]` (it is inside) and `[2, 3]` (it is on the boundary).\n",
        "\n",
        "**For Example:**\n",
        "```\n",
        "count_overlapping([[1, 2], [2, 3], [1, 3], [4, 5], [0, 1]], 2) ➞ 3\n",
        "# The list of intervals and the point of intersection are passed as parameters\n",
        "# Since [1, 2], [2, 3] and [1, 3] all overlap with point 2\n",
        "```\n",
        "\n",
        "**Note:**\n",
        "\n",
        "- Each `interval` is represented as a list with a **start point** and an **endpoint**.\n",
        "\n",
        "\n",
        "\n",
        "**Examples**\n",
        "```\n",
        "count_overlapping([[1, 2], [2, 3], [3, 4]], 5) ➞ 0\n",
        "\n",
        "count_overlapping([[1, 2], [5, 6], [5, 7]], 5) ➞ 2\n",
        "\n",
        "count_overlapping([[1, 2], [5, 8], [6, 9]], 7) ➞ 2\n",
        "```\n",
        "**Hint:** Use `and` operator to check whether the `point` lies within the intervals i.e. between the start point and the end point. An `and` operator returns `True` when both conditions are `True`, otherwise returns `False`. For example,\n",
        "- 5 < 6 **and** 5 < 7 ➞ Returns `True` as both conditions are `True`.\n",
        "- 5 < 6 **and** 6 < 6 ➞ Returns `False` as only one condition is `True`.\n"
      ]
    },
    {
      "cell_type": "code",
      "metadata": {
        "id": "yYlWfTFxUx8C",
        "colab": {
          "base_uri": "https://localhost:8080/"
        },
        "outputId": "2a0cc0ee-5e6c-41ae-b297-3d5794823a86"
      },
      "source": [
        "# Write your solution here\n",
        "def count_overlapping(intervals, point):\n",
        "    count = 0\n",
        "    for interval in intervals:\n",
        "        if interval[0] <= point <= interval[1]:\n",
        "            count += 1\n",
        "    return count\n",
        "\n",
        "intervals_1 = [[1, 2], [2, 3], [1, 3], [4, 5], [0, 1]]\n",
        "print(count_overlapping(intervals_1, 2))\n",
        "\n",
        "intervals_2 = [[1, 2], [2, 3], [3, 4]]\n",
        "print(count_overlapping(intervals_2, 5))"
      ],
      "execution_count": null,
      "outputs": [
        {
          "output_type": "stream",
          "name": "stdout",
          "text": [
            "3\n",
            "0\n"
          ]
        }
      ]
    },
    {
      "cell_type": "markdown",
      "metadata": {
        "id": "ftOXrP5NUzsZ"
      },
      "source": [
        "---"
      ]
    },
    {
      "cell_type": "markdown",
      "metadata": {
        "id": "BVT9G_baB1aq"
      },
      "source": [
        "#### Activity 2: Armstrong Number\n",
        "\n",
        "Write a function which takes a number as input and returns `True` if the number is an Armstrong number else returns `False` using `while` loop.\n",
        "\n",
        "A number is an **Armstrong number** if the sum of cubes of each digit is equal to the number itself.\n",
        "\n",
        "**For example:**\n",
        "\n",
        "For the number 153: (1 x 1 x 1) + (5 x 5 x 5) + (3 x 3 x 3) = 153. Hence, 153 is an Armstrong number.\n",
        "\n",
        "**Hint:** For solving this problem, you need to separate each digit of the number using `%` operator and find the cube of each digit in a `while` loop. Also keep on adding the cube of digit obtained on each iteration and store it in a variable (let's say `sum`).\n",
        "\n",
        "Finally, you need to check whether the value stored in variable `sum` is equal to the original number using an `if` condition. Return `True` if the number in `sum` is same as that of the original number, else return `False`.\n"
      ]
    },
    {
      "cell_type": "code",
      "metadata": {
        "id": "0pIGxKG9B3mb",
        "colab": {
          "base_uri": "https://localhost:8080/"
        },
        "outputId": "385848c2-711f-43c6-b4a5-895c6f3dd5b4"
      },
      "source": [
        "# Write a function to check whether a number is Armstrong or not\n",
        "def is_armstrong_number(number):\n",
        "    original_number = number\n",
        "    sum = 0\n",
        "\n",
        "    while number > 0:\n",
        "        digit = number % 10\n",
        "        sum += digit ** 3\n",
        "        number //= 10\n",
        "\n",
        "    if sum == original_number:\n",
        "        return True\n",
        "    else:\n",
        "        return False\n",
        "\n",
        "print(is_armstrong_number(407))\n",
        "print(is_armstrong_number(123))"
      ],
      "execution_count": null,
      "outputs": [
        {
          "output_type": "stream",
          "name": "stdout",
          "text": [
            "True\n",
            "False\n"
          ]
        }
      ]
    },
    {
      "cell_type": "markdown",
      "metadata": {
        "id": "uFgXE0iAt0NO"
      },
      "source": [
        "---"
      ]
    },
    {
      "cell_type": "markdown",
      "metadata": {
        "id": "IJIZASayCpEW"
      },
      "source": [
        "---"
      ]
    }
  ]
}