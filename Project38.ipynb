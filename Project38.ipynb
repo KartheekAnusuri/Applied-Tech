{
  "nbformat": 4,
  "nbformat_minor": 0,
  "metadata": {
    "colab": {
      "provenance": [],
      "include_colab_link": true
    },
    "kernelspec": {
      "name": "python3",
      "display_name": "Python 3"
    }
  },
  "cells": [
    {
      "cell_type": "markdown",
      "metadata": {
        "id": "view-in-github",
        "colab_type": "text"
      },
      "source": [
        "<a href=\"https://colab.research.google.com/github/KartheekAnusuri/Applied-Tech/blob/main/Project38.ipynb\" target=\"_parent\"><img src=\"https://colab.research.google.com/assets/colab-badge.svg\" alt=\"Open In Colab\"/></a>"
      ]
    },
    {
      "cell_type": "markdown",
      "metadata": {
        "id": "YZnBY81YDCCr"
      },
      "source": [
        "### Instructions"
      ]
    },
    {
      "cell_type": "markdown",
      "metadata": {
        "id": "fIKnY8occu37"
      },
      "source": [
        "#### Goal of the Project\n",
        "\n",
        "This project is designed for you to practice and solve the activities that are based on the concepts covered in the following lessons:\n",
        "\n",
        "1. Python Lists\n",
        "\n",
        "2. String Operations\n"
      ]
    },
    {
      "cell_type": "markdown",
      "metadata": {
        "id": "bEvcNW2V96nV"
      },
      "source": [
        "---"
      ]
    },
    {
      "cell_type": "markdown",
      "metadata": {
        "id": "BBqkpH4_Doqe"
      },
      "source": [
        "---"
      ]
    },
    {
      "cell_type": "markdown",
      "metadata": {
        "id": "H0P9F3DUf8x2"
      },
      "source": [
        "### Activities\n",
        "\n",
        "\n",
        "  "
      ]
    },
    {
      "cell_type": "markdown",
      "metadata": {
        "id": "BVT9G_baB1aq"
      },
      "source": [
        "#### Activity 1: Name Shuffling\n",
        "\n",
        "Given a `name` (First name and Last name) of person as a string, write a program to swap the first and last name.\n",
        "\n",
        "**Constraint**:\n",
        "\n",
        "- There will be exactly one space between the first and last name.\n",
        "\n",
        "**Examples**\n",
        "```\n",
        "1. Donald Trump ➞ Trump Donald\n",
        "\n",
        "2. Rosie O'Donnell ➞ O'Donnell Rosie\n",
        "\n",
        "3. Seymour Butts ➞ Butts Seymour\n",
        "```\n",
        "\n",
        "**Hint**: Use `split()` function and list indexing.\n"
      ]
    },
    {
      "cell_type": "code",
      "metadata": {
        "id": "0pIGxKG9B3mb",
        "colab": {
          "base_uri": "https://localhost:8080/"
        },
        "outputId": "1086a7a0-9b82-4d37-ea7a-ae18f08630bd"
      },
      "source": [
        "# Write a program to shuffle the name\n",
        "def name_shuffling(name_str):\n",
        "    # Split the name into first and last name components\n",
        "    first_name, last_name = name_str.split(' ')\n",
        "\n",
        "    # Swap the first and last name components\n",
        "    shuffled_name = last_name + ' ' + first_name\n",
        "\n",
        "    return shuffled_name\n",
        "\n",
        "# Test cases\n",
        "print(name_shuffling(\"Venu Madhav\"))\n",
        "print(name_shuffling(\"Nikhil Kumar\"))\n",
        "print(name_shuffling(\"Kartheek Anusuri\"))"
      ],
      "execution_count": null,
      "outputs": [
        {
          "output_type": "stream",
          "name": "stdout",
          "text": [
            "Madhav Venu\n",
            "Kumar Nikhil\n",
            "Anusuri Kartheek\n"
          ]
        }
      ]
    },
    {
      "cell_type": "markdown",
      "metadata": {
        "id": "IJIZASayCpEW"
      },
      "source": [
        "---"
      ]
    },
    {
      "cell_type": "markdown",
      "metadata": {
        "id": "5kBinzKxn3hd"
      },
      "source": [
        "#### Activity 2: Alphabet Soup\n",
        "\n",
        "Create a function that accepts a string as parameter and prints the same string but with its letters arranged in alphabetical order.\n",
        "\n",
        "**Notes**:\n",
        "\n",
        "- Numbers and punctuation symbols won't be included in test cases.\n",
        "\n",
        "- We will deal with only single word.\n",
        "\n",
        "**Examples**:\n",
        "```\n",
        "1. hello ➞ ehllo\n",
        "\n",
        "2. hacker ➞ acehkr\n",
        "\n",
        "3. javascript ➞ aacijprstv\n",
        "```\n",
        "\n",
        "Follow the steps given below to achieve the desired result:\n",
        "\n",
        "\n",
        "- **Step 1**: Create a function that accepts a string as a parameter.\n",
        "\n",
        "- **Step 2**: Inside this function, initialize a variable to hold the final result.\n",
        "\n",
        "- **Step 3**: Convert your string to a list using `list()` function.\n",
        "\n",
        "- **Step 4**: Then apply the `sort()` function to sort the elements in the list alphabetically. The `sort()` function is used to sort the alphabets or numbers in ascending order by default. **Syntax**: `lst.sort()`, where `lst` is the list of elements to be sorted.\n",
        "\n",
        "- **Step 5**: Use the `join()` function to join the items contained in a list with the variable created in Step 2 to form a string."
      ]
    },
    {
      "cell_type": "code",
      "metadata": {
        "id": "4gjDvOhzn6TL",
        "colab": {
          "base_uri": "https://localhost:8080/"
        },
        "outputId": "90940d5a-5692-4b37-8d35-7d4d22406c77"
      },
      "source": [
        "# Write your solution here\n",
        "def alphabet_soup(input_str):\n",
        "    # Convert the input string to a list of characters\n",
        "    char_list = list(input_str)\n",
        "\n",
        "    # Sort the list of characters in alphabetical order\n",
        "    char_list.sort()\n",
        "\n",
        "    # Concatenate the sorted characters back into a string\n",
        "    sorted_str = ''.join(char_list)\n",
        "\n",
        "    return sorted_str\n",
        "\n",
        "# Test cases\n",
        "print(alphabet_soup(\"hello\"))\n",
        "print(alphabet_soup(\"hacker\"))\n",
        "print(alphabet_soup(\"javascript\"))"
      ],
      "execution_count": null,
      "outputs": [
        {
          "output_type": "stream",
          "name": "stdout",
          "text": [
            "ehllo\n",
            "acehkr\n",
            "aacijprstv\n"
          ]
        }
      ]
    },
    {
      "cell_type": "markdown",
      "metadata": {
        "id": "yOJmEOqi-Zbr"
      },
      "source": [
        "---"
      ]
    },
    {
      "cell_type": "markdown",
      "metadata": {
        "id": "vGt-y4xp2UWT"
      },
      "source": [
        "---"
      ]
    }
  ]
}