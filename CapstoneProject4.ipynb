{
  "nbformat": 4,
  "nbformat_minor": 0,
  "metadata": {
    "colab": {
      "provenance": [],
      "include_colab_link": true
    },
    "kernelspec": {
      "name": "python3",
      "display_name": "Python 3"
    }
  },
  "cells": [
    {
      "cell_type": "markdown",
      "metadata": {
        "id": "view-in-github",
        "colab_type": "text"
      },
      "source": [
        "<a href=\"https://colab.research.google.com/github/KartheekAnusuri/Applied-Tech/blob/main/CapstoneProject4.ipynb\" target=\"_parent\"><img src=\"https://colab.research.google.com/assets/colab-badge.svg\" alt=\"Open In Colab\"/></a>"
      ]
    },
    {
      "cell_type": "markdown",
      "metadata": {
        "id": "YZnBY81YDCCr"
      },
      "source": [
        "### Instructions"
      ]
    },
    {
      "cell_type": "markdown",
      "metadata": {
        "id": "fIKnY8occu37"
      },
      "source": [
        "#### Goal of the Project\n",
        "\n",
        "This project is designed for you to practice and solve the activities that are based on the concepts covered in the following lessons:\n",
        "\n",
        "1. While Loop, Data-Type Conversion and Conditional Statements.\n",
        "\n",
        "2. Pandas DataFrame.\n"
      ]
    },
    {
      "cell_type": "markdown",
      "metadata": {
        "id": "nQ39kBv7eP05"
      },
      "source": [
        "---"
      ]
    },
    {
      "cell_type": "markdown",
      "metadata": {
        "id": "BBqkpH4_Doqe"
      },
      "source": [
        "---"
      ]
    },
    {
      "cell_type": "markdown",
      "metadata": {
        "id": "H0P9F3DUf8x2"
      },
      "source": [
        "### Activities\n",
        "\n",
        "\n",
        "  "
      ]
    },
    {
      "cell_type": "markdown",
      "metadata": {
        "id": "q4fH06mIjuK3"
      },
      "source": [
        "#### Activity 1: Create Pandas DataFrame\n",
        "\n",
        "Create a pandas DataFrame by using the below link which has the dataset of NBA players in the CSV format:\n",
        "\n",
        "**Dataset** : https://media.geeksforgeeks.org/wp-content/uploads/nba.csv\n",
        "\n",
        "Also, print the first five rows of the dataset."
      ]
    },
    {
      "cell_type": "code",
      "metadata": {
        "id": "4EAoTskqg041",
        "colab": {
          "base_uri": "https://localhost:8080/"
        },
        "outputId": "2aca9c17-9966-4a68-8231-e6bf54179635"
      },
      "source": [
        "# Create a pandas DataFrame\n",
        "import pandas as pd\n",
        "\n",
        "# Read the CSV file into a DataFrame\n",
        "url = \"https://media.geeksforgeeks.org/wp-content/uploads/nba.csv\"\n",
        "df = pd.read_csv(url)\n",
        "\n",
        "# Print the first five rows of the DataFrame\n",
        "print(df.head())"
      ],
      "execution_count": null,
      "outputs": [
        {
          "output_type": "stream",
          "name": "stdout",
          "text": [
            "            Name            Team  Number Position   Age Height  Weight  \\\n",
            "0  Avery Bradley  Boston Celtics     0.0       PG  25.0    6-2   180.0   \n",
            "1    Jae Crowder  Boston Celtics    99.0       SF  25.0    6-6   235.0   \n",
            "2   John Holland  Boston Celtics    30.0       SG  27.0    6-5   205.0   \n",
            "3    R.J. Hunter  Boston Celtics    28.0       SG  22.0    6-5   185.0   \n",
            "4  Jonas Jerebko  Boston Celtics     8.0       PF  29.0   6-10   231.0   \n",
            "\n",
            "             College     Salary  \n",
            "0              Texas  7730337.0  \n",
            "1          Marquette  6796117.0  \n",
            "2  Boston University        NaN  \n",
            "3      Georgia State  1148640.0  \n",
            "4                NaN  5000000.0  \n"
          ]
        }
      ]
    },
    {
      "cell_type": "markdown",
      "metadata": {
        "id": "xJlPs9X9oeRw"
      },
      "source": [
        "---"
      ]
    },
    {
      "cell_type": "markdown",
      "metadata": {
        "id": "7wLTClH3mTsZ"
      },
      "source": [
        "#### Activity 1.2 : Check for Null values\n",
        "\n",
        "Check for missing values in the DataFrame."
      ]
    },
    {
      "cell_type": "code",
      "metadata": {
        "id": "ZLSRJ_T9mVtr",
        "colab": {
          "base_uri": "https://localhost:8080/"
        },
        "outputId": "789cc8ed-42de-44c4-e940-f37fe7c97274"
      },
      "source": [
        "# Check for missing values in the above Pandas series.\n",
        "missing_values = df.isnull().sum()\n",
        "print(missing_values)"
      ],
      "execution_count": null,
      "outputs": [
        {
          "output_type": "stream",
          "name": "stdout",
          "text": [
            "Name         1\n",
            "Team         1\n",
            "Number       1\n",
            "Position     1\n",
            "Age          1\n",
            "Height       1\n",
            "Weight       1\n",
            "College     85\n",
            "Salary      12\n",
            "dtype: int64\n"
          ]
        }
      ]
    },
    {
      "cell_type": "markdown",
      "metadata": {
        "id": "YzslrPGfmaXM"
      },
      "source": [
        "**Q:** Are there any missing values in the DataFrame ?\n",
        "\n",
        "**A:** Yes"
      ]
    },
    {
      "cell_type": "markdown",
      "metadata": {
        "id": "C-kORyQtmh1N"
      },
      "source": [
        "---"
      ]
    },
    {
      "cell_type": "markdown",
      "metadata": {
        "id": "RtQyGSUamqwD"
      },
      "source": [
        "#### Activity 1.3 : Get the Number of rows and columns\n",
        "\n",
        "Get the number of rows and columns of the DataFrame."
      ]
    },
    {
      "cell_type": "code",
      "metadata": {
        "id": "6IxS7zUrrTEL",
        "colab": {
          "base_uri": "https://localhost:8080/"
        },
        "outputId": "7f94f266-cd49-4a25-ce1e-bd9f83feddb6"
      },
      "source": [
        "# Get the Number of rows and columns\n",
        "df.shape"
      ],
      "execution_count": null,
      "outputs": [
        {
          "output_type": "execute_result",
          "data": {
            "text/plain": [
              "(458, 9)"
            ]
          },
          "metadata": {},
          "execution_count": 6
        }
      ]
    },
    {
      "cell_type": "markdown",
      "metadata": {
        "id": "SW8IJ7hcrYOz"
      },
      "source": [
        "**Q:** How many rows are there in the DataFrame?\n",
        "\n",
        "**A:** 458"
      ]
    },
    {
      "cell_type": "markdown",
      "metadata": {
        "id": "7JviCtFz5cc1"
      },
      "source": [
        "---"
      ]
    },
    {
      "cell_type": "markdown",
      "metadata": {
        "id": "-1Bsh2BmrVfs"
      },
      "source": [
        "#### Activity 1.4: Create Pandas series for the player 'Avery Bradley'\n",
        "\n",
        "Using the `iloc[]` function, create a Pandas series for the player Avery Bradley and store it in a variable called `avery_bradley`."
      ]
    },
    {
      "cell_type": "code",
      "metadata": {
        "id": "U3Q41T235li1",
        "colab": {
          "base_uri": "https://localhost:8080/"
        },
        "outputId": "4e15b75e-e0f9-443b-e7dd-45ed761ddaca"
      },
      "source": [
        "# Create pandas series for the player 'Avery Bradley'\n",
        "avery_bradley = df.iloc[0]\n",
        "print(avery_bradley)"
      ],
      "execution_count": null,
      "outputs": [
        {
          "output_type": "stream",
          "name": "stdout",
          "text": [
            "Name         Avery Bradley\n",
            "Team        Boston Celtics\n",
            "Number                 0.0\n",
            "Position                PG\n",
            "Age                   25.0\n",
            "Height                 6-2\n",
            "Weight               180.0\n",
            "College              Texas\n",
            "Salary           7730337.0\n",
            "Name: 0, dtype: object\n"
          ]
        }
      ]
    },
    {
      "cell_type": "markdown",
      "metadata": {
        "id": "y4nv2zcL5p5O"
      },
      "source": [
        "**Q**: Which team does Avery Bradely plays for?\n",
        "\n",
        "**A**: Boston Celtics"
      ]
    },
    {
      "cell_type": "markdown",
      "metadata": {
        "id": "OsHwG1vu5YhB"
      },
      "source": [
        "---"
      ]
    },
    {
      "cell_type": "markdown",
      "metadata": {
        "id": "qA-b1CdeofKc"
      },
      "source": [
        "#### Activity 2: Find the number of solutions for a Quadratic equation\n",
        "\n",
        "A quadratic equation $ax² + b x + c = 0$ has either 0, 1, or 2 distinct solutions for real values of $x$. Given $a$, $b$ and $c$, you should only return the number of solutions that we can get from the equation.\n",
        "\n",
        "The above quadratic equation is solved using the formula, \\begin{array}{*{20}c} {x = \\frac{{ - b \\pm \\sqrt {b^2 - 4ac} }}{{2a}}} & {{\\rm{when}}} & {ax^2 + bx + c = 0} \\\\ \\end{array}\n",
        "\n",
        "The `±` in the above formula means there are **TWO** answers.\n",
        "\n",
        "Do you see $b^2 − 4ac$ in the formula above? It is called the **Discriminant**, because it can \"discriminate\" between the possible types of answer:\n",
        "\n",
        "  - when $b^2 − 4ac$ is **positive**, we get **two** Real solutions.\n",
        "\n",
        "  - when $b^2 − 4ac$ is **zero**, we get just **one** real solution.\n",
        "\n",
        "  - when $b^2 − 4ac$ is **negative**, we get a pair of **complex solution**.\n",
        "\n",
        "\n",
        "Examples:\n",
        "```\n",
        "1. solutions(1, 0, -1) ➞ 2\n",
        "# x² - 1 = 0 has two solutions (x = 1 and x = -1).\n",
        "\n",
        "2. solutions(1, 0, 1) ➞ 0\n",
        "# x² + 1 = 0 has no solutions.\n",
        "```\n",
        "\n",
        "**Note**: You do not need to calculate the solutions, just return how many solutions are there by calculating the value of $b^2 − 4ac$.\n"
      ]
    },
    {
      "cell_type": "code",
      "metadata": {
        "id": "AtvPTG3kpBoS",
        "colab": {
          "base_uri": "https://localhost:8080/"
        },
        "outputId": "1dc81ab5-4038-4720-96e3-a4a1e2a32706"
      },
      "source": [
        "# Number of solutions for a quadratic equation\n",
        "def solutions(a, b, c):\n",
        "    discriminant = b**2 - 4*a*c\n",
        "\n",
        "    if discriminant > 0:\n",
        "        return 2\n",
        "    elif discriminant == 0:\n",
        "        return 1\n",
        "    else:\n",
        "        return 0\n",
        "\n",
        "print(solutions(1, 0, -1))\n",
        "print(solutions(1, 0, 1))"
      ],
      "execution_count": null,
      "outputs": [
        {
          "output_type": "stream",
          "name": "stdout",
          "text": [
            "2\n",
            "0\n"
          ]
        }
      ]
    },
    {
      "cell_type": "markdown",
      "metadata": {
        "id": "KOVBiUSMzut1"
      },
      "source": [
        "---"
      ]
    }
  ]
}