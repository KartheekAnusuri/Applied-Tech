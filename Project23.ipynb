{
  "nbformat": 4,
  "nbformat_minor": 0,
  "metadata": {
    "colab": {
      "provenance": [],
      "include_colab_link": true
    },
    "kernelspec": {
      "name": "python3",
      "display_name": "Python 3"
    }
  },
  "cells": [
    {
      "cell_type": "markdown",
      "metadata": {
        "id": "view-in-github",
        "colab_type": "text"
      },
      "source": [
        "<a href=\"https://colab.research.google.com/github/KartheekAnusuri/Applied-Tech/blob/main/Project23.ipynb\" target=\"_parent\"><img src=\"https://colab.research.google.com/assets/colab-badge.svg\" alt=\"Open In Colab\"/></a>"
      ]
    },
    {
      "cell_type": "markdown",
      "metadata": {
        "id": "YZnBY81YDCCr"
      },
      "source": [
        "### Instructions"
      ]
    },
    {
      "cell_type": "markdown",
      "metadata": {
        "id": "bEyBzxYRhrLG"
      },
      "source": [
        "#### Goal of the Project\n",
        "\n",
        "This project is designed for you to practice and solve the activities that are based on the concepts covered in the following lessons:\n",
        "\n",
        " 1.  While Loop, Data-Type Conversion and Conditional Statements\n",
        " 2.  List Comprehension"
      ]
    },
    {
      "cell_type": "markdown",
      "metadata": {
        "id": "DPOFIO3EHncO"
      },
      "source": [
        "---"
      ]
    },
    {
      "cell_type": "markdown",
      "metadata": {
        "id": "8f6-uc0r9Q4h"
      },
      "source": [
        "### Activities"
      ]
    },
    {
      "cell_type": "markdown",
      "metadata": {
        "id": "q4fH06mIjuK3"
      },
      "source": [
        "#### Activity 1: Next Prime\n",
        "\n",
        "Given an integer `num`, create a function that returns the next prime using List Comprehension method. If the number is prime, return the number itself.\n",
        "\n",
        "**Examples** :\n",
        "```\n",
        "next_prime(12) ➞ 13\n",
        "\n",
        "next_prime(24) ➞ 29\n",
        "\n",
        "next_prime(11) ➞ 11\n",
        "\n",
        "```\n",
        "\n",
        "\n",
        "**Hints**:\n",
        "\n",
        "- First check whether the number `num` is prime or not. If the number is prime, return the number itself.\n",
        "\n",
        "- Use `while` loop. If the number is not a prime number increment the value of `num` passed in the function by `1` until we get the next prime number.\n",
        "\n",
        "- As soon as we get a prime number, the `while` loop stops and returns the value stored in `num`."
      ]
    },
    {
      "cell_type": "code",
      "metadata": {
        "id": "4EAoTskqg041",
        "colab": {
          "base_uri": "https://localhost:8080/"
        },
        "outputId": "58a56e68-eaa5-48cf-c967-8f3e9f9de090"
      },
      "source": [
        "# Write your code here\n",
        "def is_prime(num):\n",
        "    if num < 2:\n",
        "        return False\n",
        "    for i in range(2, int(num**0.5) + 1):\n",
        "        if num % i == 0:\n",
        "            return False\n",
        "    return True\n",
        "\n",
        "def next_prime(num):\n",
        "    while True:\n",
        "        num += 1\n",
        "        if is_prime(num):\n",
        "            return num\n",
        "\n",
        "# Test cases\n",
        "print(next_prime(12))\n",
        "print(next_prime(24))\n",
        "print(next_prime(11))"
      ],
      "execution_count": null,
      "outputs": [
        {
          "output_type": "stream",
          "name": "stdout",
          "text": [
            "13\n",
            "29\n",
            "13\n"
          ]
        }
      ]
    },
    {
      "cell_type": "markdown",
      "metadata": {
        "id": "H4JT7cLU21lW"
      },
      "source": [
        "---"
      ]
    },
    {
      "cell_type": "markdown",
      "metadata": {
        "id": "b4aeCDi0pkJz"
      },
      "source": [
        "#### Activity 2: Print Odd Numbers Within A Given Range\n",
        "\n",
        "The program takes the lower and upper limit and prints all odd numbers within that range.\n",
        "\n",
        "**Example:**\n",
        "```\n",
        "Enter the lower limit for the range:11\n",
        "Enter the upper limit for the range:16\n",
        "11\n",
        "13\n",
        "15\n",
        "```\n",
        "\n"
      ]
    },
    {
      "cell_type": "code",
      "metadata": {
        "id": "d5ufKLNYzsIl",
        "colab": {
          "base_uri": "https://localhost:8080/"
        },
        "outputId": "24ac027a-2501-4070-dd74-651d2941bf1b"
      },
      "source": [
        "# Write your code here\n",
        "def print_odd_numbers(lower, upper):\n",
        "    for num in range(lower, upper + 1):\n",
        "        if num % 2 != 0:\n",
        "            print(num)\n",
        "\n",
        "# Get the lower and upper limits from the user\n",
        "lower_limit = int(input(\"Enter the lower limit for the range: \"))\n",
        "upper_limit = int(input(\"Enter the upper limit for the range: \"))\n",
        "\n",
        "# Call the function to print odd numbers within the given range\n",
        "print_odd_numbers(lower_limit, upper_limit)"
      ],
      "execution_count": null,
      "outputs": [
        {
          "output_type": "stream",
          "name": "stdout",
          "text": [
            "Enter the lower limit for the range: 21\n",
            "Enter the upper limit for the range: 40\n",
            "21\n",
            "23\n",
            "25\n",
            "27\n",
            "29\n",
            "31\n",
            "33\n",
            "35\n",
            "37\n",
            "39\n"
          ]
        }
      ]
    },
    {
      "cell_type": "markdown",
      "metadata": {
        "id": "HSz7jRSlGxIO"
      },
      "source": [
        "---"
      ]
    },
    {
      "cell_type": "markdown",
      "metadata": {
        "id": "oc4S9JToIZhg"
      },
      "source": [
        "---"
      ]
    }
  ]
}