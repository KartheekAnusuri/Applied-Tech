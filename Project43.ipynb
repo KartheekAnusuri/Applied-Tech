{
  "nbformat": 4,
  "nbformat_minor": 0,
  "metadata": {
    "colab": {
      "provenance": [],
      "include_colab_link": true
    },
    "kernelspec": {
      "name": "python3",
      "display_name": "Python 3"
    }
  },
  "cells": [
    {
      "cell_type": "markdown",
      "metadata": {
        "id": "view-in-github",
        "colab_type": "text"
      },
      "source": [
        "<a href=\"https://colab.research.google.com/github/KartheekAnusuri/Applied-Tech/blob/main/Project43.ipynb\" target=\"_parent\"><img src=\"https://colab.research.google.com/assets/colab-badge.svg\" alt=\"Open In Colab\"/></a>"
      ]
    },
    {
      "cell_type": "markdown",
      "metadata": {
        "id": "YZnBY81YDCCr"
      },
      "source": [
        "### Instructions"
      ]
    },
    {
      "cell_type": "markdown",
      "metadata": {
        "id": "fIKnY8occu37"
      },
      "source": [
        "#### Goal of the Project\n",
        "\n",
        "This project is designed for you to practice and solve the activities that are based on the concepts covered in the following lesson:\n",
        "\n",
        "1. Random Variable & Binomial Distribution\n"
      ]
    },
    {
      "cell_type": "markdown",
      "metadata": {
        "id": "BBqkpH4_Doqe"
      },
      "source": [
        "---"
      ]
    },
    {
      "cell_type": "markdown",
      "metadata": {
        "id": "WcLpAzzsy74S"
      },
      "source": [
        "---"
      ]
    },
    {
      "cell_type": "markdown",
      "metadata": {
        "id": "H0P9F3DUf8x2"
      },
      "source": [
        "### Activities\n",
        "\n",
        "\n",
        "  "
      ]
    },
    {
      "cell_type": "markdown",
      "metadata": {
        "id": "BVT9G_baB1aq"
      },
      "source": [
        "#### Activity 1: Probability of Resolving 1 Crime Case\n",
        "\n",
        "Suppose, according to the latest police reports, 80% of all petty crimes are unresolved, and in your town, at least three of such petty crimes are committed. The three crimes are all independent of each other.\n",
        "\n",
        "From the given information, what is the **probability that one of the three crimes will be resolved**?"
      ]
    },
    {
      "cell_type": "code",
      "metadata": {
        "id": "sZvijSsU4Zvt",
        "colab": {
          "base_uri": "https://localhost:8080/"
        },
        "outputId": "4b7d55c4-2821-4b94-9b4f-d82a073d2c49"
      },
      "source": [
        "# Calculate the probability that one of the three crimes will be resolved\n",
        "# Probability of a crime unresolved\n",
        "prob_unresolved = 0.80\n",
        "\n",
        "# Probability of resolving one of the three crimes\n",
        "prob_resolved_one = (1 - prob_unresolved) * prob_unresolved * prob_unresolved + \\\n",
        "                   prob_unresolved * (1 - prob_unresolved) * prob_unresolved + \\\n",
        "                   prob_unresolved * prob_unresolved * (1 - prob_unresolved)\n",
        "\n",
        "print(\"Probability of resolving one of the three crimes:\", prob_resolved_one)"
      ],
      "execution_count": null,
      "outputs": [
        {
          "output_type": "stream",
          "name": "stdout",
          "text": [
            "Probability of resolving one of the three crimes: 0.38399999999999995\n"
          ]
        }
      ]
    },
    {
      "cell_type": "markdown",
      "metadata": {
        "id": "WzKmiPWtRAwN"
      },
      "source": [
        "**Hints**: The probability of resolving one of the three crimes is,\n",
        "\n",
        "$$P(X = 1) = P(\\{1, 2', 3'\\}) + P(\\{2, 1', 3'\\}) + P(\\{3, 1', 2'\\})$$\n",
        "\n",
        "**Trial 1**: Solved $1^{st}$, Unsolved $2^{nd}$, and Unsolved $3^{rd}$\n",
        "\n",
        "**Trial 2**: Unsolved $1^{st}$, Solved $2^{nd}$, and Unsolved $3^{rd}$\n",
        "\n",
        "**Trial 3**: Unsolved $1^{st}$, Unsolved $2^{nd}$, and Solved $3^{rd}$\n",
        "\n",
        "The probability of resolving one one of the three crimes = $P(Trial 1) + P(Trial 2) + P(Trial 3)$."
      ]
    },
    {
      "cell_type": "markdown",
      "metadata": {
        "id": "s6pIT3UXWoqx"
      },
      "source": [
        "---"
      ]
    },
    {
      "cell_type": "markdown",
      "metadata": {
        "id": "Na5VLA3GuU4M"
      },
      "source": [
        "#### Activity 2: Probability of Resolving 2 Crime Cases\n",
        "\n",
        "From the information given in **Activity 1**, calculate the **probability that two of the three crimes will be resolved**?"
      ]
    },
    {
      "cell_type": "code",
      "metadata": {
        "id": "AQTbnSy9uwoh",
        "colab": {
          "base_uri": "https://localhost:8080/"
        },
        "outputId": "795ad355-6f9c-4e82-9776-4f9aa492967c"
      },
      "source": [
        "# Calculate the probability that two of the three crimes will be resolved\n",
        "# Probability of a crime unresolved\n",
        "prob_unresolved = 0.80\n",
        "\n",
        "# Probability of resolving two of the three crimes\n",
        "prob_resolved_two = (1 - prob_unresolved) * (1 - prob_unresolved) * prob_unresolved + \\\n",
        "                    prob_unresolved * (1 - prob_unresolved) * (1 - prob_unresolved) + \\\n",
        "                    (1 - prob_unresolved) * prob_unresolved * (1 - prob_unresolved)\n",
        "\n",
        "print(\"Probability of resolving two of the three crimes:\", prob_resolved_two)\n"
      ],
      "execution_count": null,
      "outputs": [
        {
          "output_type": "stream",
          "name": "stdout",
          "text": [
            "Probability of resolving two of the three crimes: 0.09599999999999996\n"
          ]
        }
      ]
    },
    {
      "cell_type": "markdown",
      "metadata": {
        "id": "JNmJve-ruqaO"
      },
      "source": [
        "**Hints**: The probability of resolving one of the three crimes is,\n",
        "\n",
        "$$P(X = 1) = P(\\{1, 2, 3'\\}) + P(\\{2, 1', 3\\}) + P(\\{3, 1, 2'\\})$$\n",
        "\n",
        "**Trial 1**: Solved $1^{st}$, Solved $2^{nd}$, and Unsolved $3^{rd}$\n",
        "\n",
        "**Trial 2**: Unsolved $1^{st}$, Solved $2^{nd}$, and Solved $3^{rd}$\n",
        "\n",
        "**Trial 3**: Solved $1^{st}$, Unsolved $2^{nd}$, and Solved $3^{rd}$\n",
        "\n",
        "The probability of resolving one one of the three crimes = $P(Trial 1) + P(Trial 2) + P(Trial 3)$."
      ]
    },
    {
      "cell_type": "markdown",
      "metadata": {
        "id": "IJIZASayCpEW"
      },
      "source": [
        "---"
      ]
    },
    {
      "cell_type": "markdown",
      "metadata": {
        "id": "sl699BQqzEHy"
      },
      "source": [
        "---"
      ]
    }
  ]
}