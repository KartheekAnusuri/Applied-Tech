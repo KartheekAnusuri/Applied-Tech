{
  "nbformat": 4,
  "nbformat_minor": 0,
  "metadata": {
    "colab": {
      "provenance": [],
      "include_colab_link": true
    },
    "kernelspec": {
      "name": "python3",
      "display_name": "Python 3"
    }
  },
  "cells": [
    {
      "cell_type": "markdown",
      "metadata": {
        "id": "view-in-github",
        "colab_type": "text"
      },
      "source": [
        "<a href=\"https://colab.research.google.com/github/KartheekAnusuri/Applied-Tech/blob/main/Project36.ipynb\" target=\"_parent\"><img src=\"https://colab.research.google.com/assets/colab-badge.svg\" alt=\"Open In Colab\"/></a>"
      ]
    },
    {
      "cell_type": "markdown",
      "metadata": {
        "id": "YZnBY81YDCCr"
      },
      "source": [
        "### Instructions"
      ]
    },
    {
      "cell_type": "markdown",
      "metadata": {
        "id": "fIKnY8occu37"
      },
      "source": [
        "#### Goal of the Project\n",
        "\n",
        "This project is designed for you to practice and solve the activities that are based on the concepts covered in the following lessons:\n",
        "\n",
        "1. Python Dictionary\n",
        "\n",
        "2. Python Lists\n",
        "\n",
        "3. String Operations\n"
      ]
    },
    {
      "cell_type": "markdown",
      "metadata": {
        "id": "yPZGW0_xDUOy"
      },
      "source": [
        "---"
      ]
    },
    {
      "cell_type": "markdown",
      "metadata": {
        "id": "BBqkpH4_Doqe"
      },
      "source": [
        "---"
      ]
    },
    {
      "cell_type": "markdown",
      "metadata": {
        "id": "H0P9F3DUf8x2"
      },
      "source": [
        "### Activities\n",
        "\n",
        "\n",
        "  "
      ]
    },
    {
      "cell_type": "markdown",
      "metadata": {
        "id": "BVT9G_baB1aq"
      },
      "source": [
        "#### Activity 1: Match Words\n",
        "\n",
        "Write a function to count the number of words whose length is 2 or more and the first and last character are the same from a given list of words.\n",
        "\n",
        "`list_of_words = ['civic', 'organ', 'trust', 'rigid', 'erase', 'right']`\n",
        "\n",
        "**Hint**: Use `for` loop and list indexing.\n"
      ]
    },
    {
      "cell_type": "code",
      "metadata": {
        "id": "0pIGxKG9B3mb",
        "colab": {
          "base_uri": "https://localhost:8080/"
        },
        "outputId": "0542a779-3a86-4c4e-f933-98de587ad95a"
      },
      "source": [
        "# Solution\n",
        "def count_matching_words(words):\n",
        "    count = 0\n",
        "    for word in words:\n",
        "        # Check if the word has a length of 2 or more and the first and last characters are the same\n",
        "        if len(word) >= 2 and word[0] == word[-1]:\n",
        "            count += 1\n",
        "    return count\n",
        "\n",
        "# Test case\n",
        "list_of_words = ['civic', 'organ', 'trust', 'rigid', 'erase', 'right']\n",
        "print(count_matching_words(list_of_words))"
      ],
      "execution_count": null,
      "outputs": [
        {
          "output_type": "stream",
          "name": "stdout",
          "text": [
            "3\n"
          ]
        }
      ]
    },
    {
      "cell_type": "markdown",
      "metadata": {
        "id": "IJIZASayCpEW"
      },
      "source": [
        "---"
      ]
    },
    {
      "cell_type": "markdown",
      "metadata": {
        "id": "BlwuesUU2VEE"
      },
      "source": [
        "#### Activity 2: Print Expensive orders\n",
        "\n",
        "Write a function that returns all orders whose price is strictly more than `avg_val`, where `avg_val` will be an average price that will be passed in the function as a second parameter. The function will look like:\n",
        "\n",
        "`expensive_orders(d, avg_val)`, where `d` is the dictionary with the item name as `key` and the price of the item as `value` and the `avg_val` is the average price of orders.\n",
        "\n",
        "**Examples**\n",
        "```\n",
        "1. expensive_orders({ \"a\": 3000,\n",
        "                      \"b\": 200,\n",
        "                      \"c\": 1050 }, 1000) ➞ { \"a\": 3000, \"c\": 1050 }\n",
        "\n",
        "2. expensive_orders({ \"Gucci Fur\": 24600,\n",
        "                      \"Teak Dining Table\": 3200,\n",
        "                      \"Louis Vutton Bag\": 5550, \"Dolce Gabana Heels\": 4000 }, 20000) ➞ { \"Gucci Fur\": 24600 }\n",
        "\n",
        "3. expensive_orders({ \"Deluxe Burger\": 35,\n",
        "                      \"Icecream Shake\": 4,\n",
        "                      \"Fries\": 5 }, 40) ➞ {}\n",
        "```\n",
        "\n",
        "Follow the steps given below to achieve the desired result:\n",
        "\n",
        "- **Step 1**: Create a function, say `expensive_orders()` and pass the dictionary holding the items `d` and the average value `avg_value` as parameters inside this function.\n",
        "\n",
        "- **Step 2**: Define an empty dictionary and store it in variable let's say `result{}`.\n",
        "\n",
        "- **Step 3**: Iterate through all the `key` and `values` in `d{}` using the `items()` function in a `for` loop. Inside this loop, check whether the value of the prices of each item is greater than the `avg_val` using an `if` condition.\n",
        "\n",
        "- **Step 4**: If the value is greater, then add that item and its value in the `result{}` dictionary using `result[key] = value`."
      ]
    },
    {
      "cell_type": "code",
      "metadata": {
        "id": "zbVRgU5s4Zuj",
        "outputId": "718f6e16-bd48-4210-f7a9-65678e8be098",
        "colab": {
          "base_uri": "https://localhost:8080/"
        }
      },
      "source": [
        "# Write a function to print the expensive orders\n",
        "def expensive_orders(d, avg_val):\n",
        "    result = {}\n",
        "    for item, price in d.items():\n",
        "        if price > avg_val:\n",
        "            result[item] = price\n",
        "    return result\n",
        "\n",
        "# Test cases\n",
        "print(expensive_orders({ \"a\": 3000, \"b\": 200, \"c\": 1050 }, 1000))\n",
        "\n",
        "print(expensive_orders({ \"Gucci Fur\": 24600, \"Teak Dining Table\": 3200, \"Louis Vutton Bag\": 5550, \"Dolce Gabana Heels\": 4000 }, 20000))\n",
        "\n",
        "print(expensive_orders({ \"Deluxe Burger\": 35, \"Icecream Shake\": 4, \"Fries\": 5 }, 40))"
      ],
      "execution_count": null,
      "outputs": [
        {
          "output_type": "stream",
          "name": "stdout",
          "text": [
            "{'a': 3000, 'c': 1050}\n",
            "{'Gucci Fur': 24600}\n",
            "{}\n"
          ]
        }
      ]
    },
    {
      "cell_type": "markdown",
      "metadata": {
        "id": "2KRIcLMoDmPS"
      },
      "source": [
        "---"
      ]
    },
    {
      "cell_type": "markdown",
      "metadata": {
        "id": "MWkPEALQn-lN"
      },
      "source": [
        "---"
      ]
    }
  ]
}