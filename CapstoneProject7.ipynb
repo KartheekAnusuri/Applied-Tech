{
  "nbformat": 4,
  "nbformat_minor": 0,
  "metadata": {
    "colab": {
      "provenance": [],
      "include_colab_link": true
    },
    "kernelspec": {
      "name": "python3",
      "display_name": "Python 3"
    }
  },
  "cells": [
    {
      "cell_type": "markdown",
      "metadata": {
        "id": "view-in-github",
        "colab_type": "text"
      },
      "source": [
        "<a href=\"https://colab.research.google.com/github/KartheekAnusuri/Applied-Tech/blob/main/CapstoneProject7.ipynb\" target=\"_parent\"><img src=\"https://colab.research.google.com/assets/colab-badge.svg\" alt=\"Open In Colab\"/></a>"
      ]
    },
    {
      "cell_type": "markdown",
      "metadata": {
        "id": "YZnBY81YDCCr"
      },
      "source": [
        "### Instructions"
      ]
    },
    {
      "cell_type": "markdown",
      "metadata": {
        "id": "bEyBzxYRhrLG"
      },
      "source": [
        "#### Goal of the Project\n",
        "\n",
        "This project is designed for you to practice and solve the activities that are based on the concepts covered in the following lessons:\n",
        "\n",
        "  1.  While Loop, Data-Type Conversion and Conditional Statements\n",
        "  2.  Python Lists\n",
        "  3.  List Comprehension\n",
        "  5.  Python Tuples I"
      ]
    },
    {
      "cell_type": "markdown",
      "metadata": {
        "id": "DPOFIO3EHncO"
      },
      "source": [
        "---"
      ]
    },
    {
      "cell_type": "markdown",
      "metadata": {
        "id": "BBqkpH4_Doqe"
      },
      "source": [
        "---"
      ]
    },
    {
      "cell_type": "markdown",
      "metadata": {
        "id": "q4fH06mIjuK3"
      },
      "source": [
        "#### Activity 1: Filter out Strings\n",
        "\n",
        "Given a list which contains both integer and string values, create a function that returns a new list without the strings using List comprehension method.\n",
        "\n",
        "**Constraint**:\n",
        "\n",
        "- Consider only non-negative integers\n",
        "\n",
        "**Examples**\n",
        "```\n",
        "[1, 2, \"a\", \"b\"] ➞ [1, 2]\n",
        "\n",
        "[1, \"a\", \"b\", 0, 15] ➞ [1, 0, 15]\n",
        "\n",
        "[1, 2, \"aasf\", \"1\", \"123\", 123] ➞ [1, 2, 123]\n",
        "```\n",
        "**Hint:** Use `type()` function to check the data type of all the elements of the list."
      ]
    },
    {
      "cell_type": "code",
      "metadata": {
        "id": "4EAoTskqg041",
        "colab": {
          "base_uri": "https://localhost:8080/"
        },
        "outputId": "df7af0fc-d412-4657-cea8-a8f1a70155a0"
      },
      "source": [
        "# Write your code here\n",
        "# Define a function which will take list as a parameter\n",
        "def filter_strings(lst):\n",
        "  # This function returns only those items of list whose type is int. Specify this using list comprehension.\n",
        "  return [num for num in lst if type(num) == int and num >= 0]\n",
        "#Call the function\n",
        "print(filter_strings([1, 2, \"a\", \"b\"]))\n",
        "print(filter_strings([1, \"a\", \"b\", 0, 15]))\n",
        "print(filter_strings([1, 2, \"aasf\", \"1\", \"123\", 123]))"
      ],
      "execution_count": null,
      "outputs": [
        {
          "output_type": "stream",
          "name": "stdout",
          "text": [
            "[1, 2]\n",
            "[1, 0, 15]\n",
            "[1, 2, 123]\n"
          ]
        }
      ]
    },
    {
      "cell_type": "markdown",
      "metadata": {
        "id": "xJlPs9X9oeRw"
      },
      "source": [
        "---"
      ]
    },
    {
      "cell_type": "markdown",
      "metadata": {
        "id": "qA-b1CdeofKc"
      },
      "source": [
        "#### Activity 2: Transform into a List with No Duplicates\n",
        "\n",
        "Given a list of elements, write a program to print a new sorted list with no duplicate values.\n",
        "\n",
        "**Examples:**\n",
        "```\n",
        "[3, 3, 1, 5, 5] ➞ [1, 3, 5]\n",
        "\n",
        "[5, 7, 8, 15, 10, 9] ➞ [5, 7, 8, 9, 10, 15]\n",
        "\n",
        "['a', 'c', 'b', 'c', 'd'] ➞ [a, b, c, d]\n",
        "\n",
        "[3, 3, 3, 2, 1] ➞ [1, 2, 3]\n",
        "```\n",
        "**Hint:** Use `append()` and `sort()` functions. The `sort()` function is used to sort the elements of a list. The syntax of `sort()` function is:\n",
        "\n",
        "`list_name.sort()`\n",
        "\n",
        " where, `list_name` is the list whose elements are to be sorted."
      ]
    },
    {
      "cell_type": "code",
      "metadata": {
        "id": "AtvPTG3kpBoS",
        "colab": {
          "base_uri": "https://localhost:8080/"
        },
        "outputId": "a37b4741-7dc1-4f53-8724-e4b1887f8c68"
      },
      "source": [
        "# Write your code here\n",
        "# Create a function which takes a list as parameter.\n",
        "def remove_duplicates(lst):\n",
        "    unique_list = list(set(lst))\n",
        "    unique_list.sort()\n",
        "    return unique_list\n",
        "\n",
        "# Test cases\n",
        "print(remove_duplicates([3, 3, 1, 5, 5]))\n",
        "print(remove_duplicates([5, 7, 8, 15, 10, 9]))\n",
        "print(remove_duplicates(['a', 'c', 'b', 'c', 'd']))\n",
        "print(remove_duplicates([3, 3, 3, 2, 1]))\n"
      ],
      "execution_count": null,
      "outputs": [
        {
          "output_type": "stream",
          "name": "stdout",
          "text": [
            "[1, 3, 5]\n",
            "[5, 7, 8, 9, 10, 15]\n",
            "['a', 'b', 'c', 'd']\n",
            "[1, 2, 3]\n"
          ]
        }
      ]
    },
    {
      "cell_type": "markdown",
      "metadata": {
        "id": "KOVBiUSMzut1"
      },
      "source": [
        "---"
      ]
    },
    {
      "cell_type": "markdown",
      "metadata": {
        "id": "b4aeCDi0pkJz"
      },
      "source": [
        "#### Activity 3: Reverse the elements of a Tuple\n",
        "\n",
        "Given `n` elements of different types in a tuple, write a program to print the elements of that tuple in a reverse order using negative indexing.\n",
        "\n",
        "**Example**:\n",
        "\n",
        "```\n",
        "Original tuple:  (1, 3, 5.78, 7.56, 'Python')\n",
        "Tuple is reverse order :\n",
        "Python\n",
        "7.56\n",
        "5.78\n",
        "3\n",
        "1\n",
        "```"
      ]
    },
    {
      "cell_type": "code",
      "metadata": {
        "id": "d5ufKLNYzsIl",
        "colab": {
          "base_uri": "https://localhost:8080/"
        },
        "outputId": "f4266ba3-5983-48c2-a6fc-def89331a058"
      },
      "source": [
        "# Write your code here\n",
        "def reverse_tuple_elements(tup):\n",
        "    for i in range(len(tup) - 1, -1, -1):\n",
        "        print(tup[i])\n",
        "\n",
        "# Test case\n",
        "original_tuple = (1, 3, 5.78, 7.56, 'Python')\n",
        "print(\"Original tuple:\", original_tuple)\n",
        "print(\"Tuple in reverse order:\")\n",
        "reverse_tuple_elements(original_tuple)"
      ],
      "execution_count": null,
      "outputs": [
        {
          "output_type": "stream",
          "name": "stdout",
          "text": [
            "Original tuple: (1, 3, 5.78, 7.56, 'Python')\n",
            "Tuple in reverse order:\n",
            "Python\n",
            "7.56\n",
            "5.78\n",
            "3\n",
            "1\n"
          ]
        }
      ]
    },
    {
      "cell_type": "markdown",
      "metadata": {
        "id": "HSz7jRSlGxIO"
      },
      "source": [
        "---"
      ]
    }
  ]
}