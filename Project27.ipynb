{
  "nbformat": 4,
  "nbformat_minor": 0,
  "metadata": {
    "colab": {
      "provenance": [],
      "include_colab_link": true
    },
    "kernelspec": {
      "name": "python3",
      "display_name": "Python 3"
    }
  },
  "cells": [
    {
      "cell_type": "markdown",
      "metadata": {
        "id": "view-in-github",
        "colab_type": "text"
      },
      "source": [
        "<a href=\"https://colab.research.google.com/github/KartheekAnusuri/Applied-Tech/blob/main/Project27.ipynb\" target=\"_parent\"><img src=\"https://colab.research.google.com/assets/colab-badge.svg\" alt=\"Open In Colab\"/></a>"
      ]
    },
    {
      "cell_type": "markdown",
      "metadata": {
        "id": "YZnBY81YDCCr"
      },
      "source": [
        "### Instructions"
      ]
    },
    {
      "cell_type": "markdown",
      "metadata": {
        "id": "fIKnY8occu37"
      },
      "source": [
        "#### Goal of the Project\n",
        "\n",
        "This project is designed for you to practice and solve the activities that are based on the concepts covered in the following lessons:\n",
        "\n",
        "1. While Loop, Data-Type Conversion and Conditional Statements\n",
        "\n",
        "2. Python Lists\n"
      ]
    },
    {
      "cell_type": "markdown",
      "metadata": {
        "id": "xVjK5anRpFU1"
      },
      "source": [
        "---"
      ]
    },
    {
      "cell_type": "markdown",
      "metadata": {
        "id": "BBqkpH4_Doqe"
      },
      "source": [
        "---"
      ]
    },
    {
      "cell_type": "markdown",
      "metadata": {
        "id": "H0P9F3DUf8x2"
      },
      "source": [
        "### Activities\n",
        "\n",
        "\n",
        "  "
      ]
    },
    {
      "cell_type": "markdown",
      "metadata": {
        "id": "BVT9G_baB1aq"
      },
      "source": [
        "#### Activity 1: Bonus Calculation\n",
        "\n",
        "A financial institution has set a scheme to motivate and reward its staff by paying a bonus for each day.\n",
        "\n",
        "This scheme is calculated with a threshold target of 32 days per quarter, and the incentive payment for each billable day in excess of such threshold target is shown as follows:\n",
        "\n",
        "|Days                |Bonus                     |\n",
        "|--------------------|--------------------------|\n",
        "|0 to 32 days        |Zero                      |\n",
        "|33 to 40 days       |SGD \\$325 per billable day|\n",
        "|41 to 48 days       |SGD \\$550 per billable day|\n",
        "|Greater than 48 days|SGD \\$600 per billable day|\n",
        "\n",
        "\n",
        "Please note that incentive payment is calculated progressively. As an example, if an employee reached total billable days of 45 in a quarter, his/her incentive payment is computed as follows:\n",
        "```\n",
        "32*0 + 8*325 + 5*550 = 5350\n",
        "```\n",
        "Write a function to read the billable days of an employee and return the bonus he/she has obtained in that quarter.\n",
        "\n",
        "**Examples** :\n",
        "```\n",
        "calculate_bonus(15) ➞ 0\n",
        "\n",
        "calculate_bonus(37) ➞ 1625\n",
        "\n",
        "calculate_bonus(50) ➞ 8200\n",
        "```"
      ]
    },
    {
      "cell_type": "code",
      "metadata": {
        "id": "0pIGxKG9B3mb",
        "colab": {
          "base_uri": "https://localhost:8080/"
        },
        "outputId": "661cd440-52bb-4179-ed2b-fc53634ad775"
      },
      "source": [
        "# Write a function to read the billable days of an employee and return the bonus he/she has obtained in that quarter.\n",
        "def calculate_bonus(billable_days):\n",
        "    bonus = 0\n",
        "\n",
        "    if billable_days > 32:\n",
        "        remaining_days = billable_days - 32\n",
        "        if remaining_days <= 8:\n",
        "            bonus += remaining_days * 325\n",
        "        elif remaining_days <= 16:\n",
        "            bonus += 8 * 325 + (remaining_days - 8) * 550\n",
        "        else:\n",
        "            bonus += 8 * 325 + 8 * 550 + (remaining_days - 16) * 600\n",
        "\n",
        "    return bonus\n",
        "\n",
        "# Test cases\n",
        "print(calculate_bonus(15))\n",
        "print(calculate_bonus(37))\n",
        "print(calculate_bonus(50))"
      ],
      "execution_count": null,
      "outputs": [
        {
          "output_type": "stream",
          "name": "stdout",
          "text": [
            "0\n",
            "1625\n",
            "8200\n"
          ]
        }
      ]
    },
    {
      "cell_type": "markdown",
      "metadata": {
        "id": "JuwBMIeFB9xY"
      },
      "source": [
        "---"
      ]
    },
    {
      "cell_type": "markdown",
      "metadata": {
        "id": "5kBinzKxn3hd"
      },
      "source": [
        "#### Activity 2: Making a Box\n",
        "\n",
        "Define a function that creates a box based on dimension `n`. Size of box will be `(n X n)` i.e. `n` rows and `n` columns.\n",
        "\n",
        "**Constraint**\n",
        "\n",
        "- Size of the `(n x n)` box should always be greater than 2, i.e. `n > 2`.\n",
        "\n",
        "**Sample Input 1**\n",
        "```\n",
        "5\n",
        "```\n",
        "\n",
        "**Sample Output 1**\n",
        "```\n",
        "\n",
        "  \"#####\",\n",
        "  \"#   #\",\n",
        "  \"#   #\",\n",
        "  \"#   #\",\n",
        "  \"#####\"\n",
        "\n",
        "\n",
        "```\n",
        "\n",
        "**Sample Input 2**\n",
        "```\n",
        "3\n",
        "```\n",
        "\n",
        "**Sample Output 2**\n",
        "```\n",
        "\n",
        "  \"###\",\n",
        "  \"# #\",\n",
        "  \"###\"\n",
        "\n",
        "```\n",
        "\n",
        "**Hints:**\n",
        "\n",
        "- Use Python list. Create 3 lists, say `top[]`, `bottom[]` and `middle[]` which signifies top, bottom and middle rows respectively.\n",
        "\n",
        "  - `top[]` list and `bottom[]` list contains `n` number of `#`.\n",
        "  \n",
        "  -`middle[]` list contains `(n-2)` number of spaces between two `#` which are at boundaries. This list is multiplied by `n-2` to get `n-2` rows between top row and bottom row.\n",
        "\n",
        "- `['#' * n]` gives you `n` number of `#` appended in a list,\n",
        "    \n",
        "    Example : For n = 5 `['#' * 5]` gives you 5 `#` in a list, `['#####']`\n",
        "\n",
        "- Print all the lists using `*` operator inside the `print()` function as follows:\n",
        "\n",
        "  `print(*top)` - Here `*` unpacks the list and prints the elements of list as strings.\n",
        "\n",
        "(Also, to understand the importance of using `*` operator inside `print()` function, try printing all the lists without `*` and observe the change in the output)\n",
        "\n",
        "- Print `middle[]` list i.e. middle rows on separate lines using **sep** parameter of `print()` function alongwith `*` operator.\n",
        "\n",
        "Example of **sep** parameter:\n",
        "````\n",
        "print('1','2','3', sep=\"\\n\")  ⟶ 1\n",
        "                                 2\n",
        "                                 3  \n",
        "````\n",
        "Here separator is **\"\\n\"** which indicates **newline character**. This means that arguments specified in `print()` function must be printed on new line.\n",
        "\n"
      ]
    },
    {
      "cell_type": "code",
      "metadata": {
        "id": "4gjDvOhzn6TL",
        "colab": {
          "base_uri": "https://localhost:8080/"
        },
        "outputId": "8a00d3b0-9676-414b-d557-d5957d34c9ac"
      },
      "source": [
        "# Write your solution here\n",
        "def create_box(n):\n",
        "    if n <= 2:\n",
        "        print(\"Size of the box should be greater than 2.\")\n",
        "        return\n",
        "\n",
        "    top = ['#' * n]\n",
        "    middle = ['#' + ' ' * (n - 2) + '#' for _ in range(n - 2)]\n",
        "    bottom = ['#' * n]\n",
        "\n",
        "    print(*top)\n",
        "    print(*middle, sep='\\n')\n",
        "    print(*bottom)\n",
        "\n",
        "# Test cases\n",
        "create_box(5)"
      ],
      "execution_count": null,
      "outputs": [
        {
          "output_type": "stream",
          "name": "stdout",
          "text": [
            "#####\n",
            "#   #\n",
            "#   #\n",
            "#   #\n",
            "#####\n"
          ]
        }
      ]
    },
    {
      "cell_type": "markdown",
      "metadata": {
        "id": "MWkPEALQn-lN"
      },
      "source": [
        "---"
      ]
    },
    {
      "cell_type": "markdown",
      "metadata": {
        "id": "ejCHl8Jyohro"
      },
      "source": [
        "---"
      ]
    }
  ]
}