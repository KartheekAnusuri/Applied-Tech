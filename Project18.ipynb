{
  "nbformat": 4,
  "nbformat_minor": 0,
  "metadata": {
    "colab": {
      "provenance": [],
      "include_colab_link": true
    },
    "kernelspec": {
      "name": "python3",
      "display_name": "Python 3"
    }
  },
  "cells": [
    {
      "cell_type": "markdown",
      "metadata": {
        "id": "view-in-github",
        "colab_type": "text"
      },
      "source": [
        "<a href=\"https://colab.research.google.com/github/KartheekAnusuri/Applied-Tech/blob/main/Project18.ipynb\" target=\"_parent\"><img src=\"https://colab.research.google.com/assets/colab-badge.svg\" alt=\"Open In Colab\"/></a>"
      ]
    },
    {
      "cell_type": "markdown",
      "metadata": {
        "id": "YZnBY81YDCCr"
      },
      "source": [
        "### Instructions"
      ]
    },
    {
      "cell_type": "markdown",
      "metadata": {
        "id": "fIKnY8occu37"
      },
      "source": [
        "#### Goal of the Project\n",
        "\n",
        "This project is designed for you to practice and solve the activities that are based on the concepts covered in the following lessons:\n",
        "\n",
        "1. While Loop, Data-Type Conversion and Conditional Statements.\n",
        "\n",
        "2. Python Lists (`for` Loop).\n"
      ]
    },
    {
      "cell_type": "markdown",
      "metadata": {
        "id": "BBqkpH4_Doqe"
      },
      "source": [
        "---"
      ]
    },
    {
      "cell_type": "markdown",
      "metadata": {
        "id": "LXZYM1_eJjs3"
      },
      "source": [
        "---"
      ]
    },
    {
      "cell_type": "markdown",
      "metadata": {
        "id": "H0P9F3DUf8x2"
      },
      "source": [
        "### Activities\n",
        "\n",
        "\n",
        "  "
      ]
    },
    {
      "cell_type": "markdown",
      "metadata": {
        "id": "BVT9G_baB1aq"
      },
      "source": [
        "#### Activity 1: Last Digit Ultimate\n",
        "\n",
        "Your job is to create a function, that takes 3 numbers: `num1, num2, num3` and returns `True` if:\n",
        "\n",
        " (last digit of `num1`) * (the last digit of `num2`) = the last digit of `num3`.\n",
        "\n",
        "**Examples**\n",
        "```\n",
        "1. last_dig(25, 21, 125) ➞ True\n",
        "# The last digit of 25 is 5, the last digit of 21 is 1,\n",
        "# last digit of 125 is 5, and the last digit of 5*1 = 5,\n",
        "# which is equal to the last digit of 125 i.e. 5\n",
        "\n",
        "2. last_dig(55, 226, 5190) ➞ True\n",
        "# The last digit of 55 is 5, the last digit of 226 is 6,\n",
        "# last digit of 5190 is 0, and the last digit of 5*6 = 30 i.e. 0,\n",
        "# which is equal to the last digit of 5190 i.e. 0\n",
        "\n",
        "3. last_dig(12, 215, 2142) ➞ False\n",
        "# The last digit of 12 is 2, the last digit of 215 is 5,\n",
        "# last digit of 2142 is 2, and the last digit of 2*5 = 10 is 0,\n",
        "# which is not equal to the last digit of 2142 i.e. 2\n",
        "```\n"
      ]
    },
    {
      "cell_type": "code",
      "metadata": {
        "id": "0pIGxKG9B3mb",
        "colab": {
          "base_uri": "https://localhost:8080/"
        },
        "outputId": "cac2066c-f029-4f8c-b06e-e2360ff7e6cd"
      },
      "source": [
        "# Write your solution here:\n",
        "def last_dig(num1, num2, num3):\n",
        "    # Step 1: Get the last digit of each number\n",
        "    last_digit_num1 = num1 % 10\n",
        "    last_digit_num2 = num2 % 10\n",
        "    last_digit_num3 = num3 % 10\n",
        "\n",
        "    # Step 2: Calculate the product of the last digits\n",
        "    product_last_digits = last_digit_num1 * last_digit_num2\n",
        "\n",
        "    # Step 3: Get the last digit of the product\n",
        "    last_digit_product = product_last_digits % 10\n",
        "\n",
        "    # Step 4: Compare the last digit of the product with the last digit of num3\n",
        "    return last_digit_product == last_digit_num3\n",
        "\n",
        "# Test cases\n",
        "print(last_dig(25, 21, 125))\n",
        "print(last_dig(55, 226, 5190))\n",
        "print(last_dig(12, 215, 2142))"
      ],
      "execution_count": null,
      "outputs": [
        {
          "output_type": "stream",
          "name": "stdout",
          "text": [
            "True\n",
            "True\n",
            "False\n"
          ]
        }
      ]
    },
    {
      "cell_type": "markdown",
      "metadata": {
        "id": "JuwBMIeFB9xY"
      },
      "source": [
        "---"
      ]
    },
    {
      "cell_type": "markdown",
      "metadata": {
        "id": "qA-b1CdeofKc"
      },
      "source": [
        "#### Activity 2: Pentagonal Number\n",
        "\n",
        "Given a number $num$ as a positive integer, calculate how many dots exist in a pentagonal shape around the centre dot on the $Nth$ iteration.\n",
        "\n",
        "In the image below you can see in the first iteration there is only a single dot. On the second, there are 6 dots. On the third, there are 16 dots, and on the fourth there are 31 dots.\n",
        "\n",
        "<img src='https://student-datasets-bucket.s3.ap-south-1.amazonaws.com/images/pengatonal-number.png' width=500>\n",
        "\n",
        "**Constraint**\n",
        "\n",
        "$num > 0$\n",
        "\n",
        "**Sample Input 1**\n",
        "```\n",
        "2\n",
        "```\n",
        "\n",
        "**Sample Output 1**\n",
        "```\n",
        "6\n",
        "```\n",
        "\n",
        "**Sample Input 2**\n",
        "```\n",
        "3\n",
        "```\n",
        "\n",
        "**Sample Output 2**\n",
        "```\n",
        "16\n",
        "```\n"
      ]
    },
    {
      "cell_type": "code",
      "metadata": {
        "id": "AtvPTG3kpBoS",
        "colab": {
          "base_uri": "https://localhost:8080/"
        },
        "outputId": "792de8db-294c-4775-e728-3820e44d129b"
      },
      "source": [
        "# Write your solution here\n",
        "def pentagonal_number(num):\n",
        "    # Handle the base case where num is 1 (first iteration)\n",
        "    if num == 1:\n",
        "        return 1\n",
        "\n",
        "    # Calculate the number of dots for the Nth iteration\n",
        "    dots = 1 + sum(5 * i for i in range(1, num))\n",
        "\n",
        "    return dots\n",
        "\n",
        "# Test cases\n",
        "print(pentagonal_number(2))\n",
        "print(pentagonal_number(3))\n",
        "print(pentagonal_number(9))"
      ],
      "execution_count": null,
      "outputs": [
        {
          "output_type": "stream",
          "name": "stdout",
          "text": [
            "6\n",
            "16\n",
            "181\n"
          ]
        }
      ]
    },
    {
      "cell_type": "markdown",
      "metadata": {
        "id": "fgW8LAyjEaEH"
      },
      "source": [
        "**Q**: How many dots are there in the 9th iteration?\n",
        "\n",
        "**A**: 181"
      ]
    },
    {
      "cell_type": "markdown",
      "metadata": {
        "id": "KOVBiUSMzut1"
      },
      "source": [
        "---"
      ]
    },
    {
      "cell_type": "markdown",
      "metadata": {
        "id": "kkUwgsVzKMMf"
      },
      "source": [
        "---"
      ]
    }
  ]
}