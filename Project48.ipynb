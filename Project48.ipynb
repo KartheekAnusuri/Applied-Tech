{
  "nbformat": 4,
  "nbformat_minor": 0,
  "metadata": {
    "colab": {
      "provenance": [],
      "include_colab_link": true
    },
    "kernelspec": {
      "name": "python3",
      "display_name": "Python 3"
    }
  },
  "cells": [
    {
      "cell_type": "markdown",
      "metadata": {
        "id": "view-in-github",
        "colab_type": "text"
      },
      "source": [
        "<a href=\"https://colab.research.google.com/github/KartheekAnusuri/Applied-Tech/blob/main/Project48.ipynb\" target=\"_parent\"><img src=\"https://colab.research.google.com/assets/colab-badge.svg\" alt=\"Open In Colab\"/></a>"
      ]
    },
    {
      "cell_type": "markdown",
      "metadata": {
        "id": "YZnBY81YDCCr"
      },
      "source": [
        "### Instructions"
      ]
    },
    {
      "cell_type": "markdown",
      "metadata": {
        "id": "fIKnY8occu37"
      },
      "source": [
        "#### Goal of the Project\n",
        "\n",
        "This project is designed for you to practice and solve the activities that are based on the concepts covered in the following lessons:\n",
        "\n",
        "1. Python Lists\n",
        "\n",
        "2. Python Dictionary\n",
        "\n",
        "3. String Operations\n",
        "\n",
        "\n"
      ]
    },
    {
      "cell_type": "markdown",
      "metadata": {
        "id": "9oVvUZZCPxxl"
      },
      "source": [
        "---"
      ]
    },
    {
      "cell_type": "markdown",
      "metadata": {
        "id": "BBqkpH4_Doqe"
      },
      "source": [
        "---"
      ]
    },
    {
      "cell_type": "markdown",
      "metadata": {
        "id": "H0P9F3DUf8x2"
      },
      "source": [
        "### Activities\n",
        "\n",
        "\n",
        "  "
      ]
    },
    {
      "cell_type": "markdown",
      "metadata": {
        "id": "0dG-Pm9-UpYh"
      },
      "source": [
        "#### Activity 1: Isogram Word\n",
        "\n",
        "An isogram is a word that has no repeating letters, consecutive or non-consecutive.\n",
        "\n",
        "Given a word as a string, write a program to find whether the word is an isogram or not.\n",
        "\n",
        "**Constraint**:\n",
        "\n",
        "- Ignore letter case (should not be case sensitive).\n",
        "\n",
        "- All test cases contain a valid one-word string.\n",
        "\n",
        "**Input Format**\n",
        "```\n",
        "A string word\n",
        "```\n",
        "\n",
        "**Output Format**\n",
        "```\n",
        "Print 'The word is isogram' if the word has no repeating letters, consecutive or non-consecutive, otherwise print 'The word is not isogram'\n",
        "```\n",
        "\n",
        "**Example**\n",
        "```\n",
        "algorism ➞ The word is isogram\n",
        "\n",
        "Password ➞ The word is not isogram\n",
        "\n",
        "coat ➞ The word is isogram\n",
        "```\n",
        "\n",
        "**Hint:** Use `count()` function to count how many times a letter repeat in a word."
      ]
    },
    {
      "cell_type": "code",
      "metadata": {
        "id": "yYlWfTFxUx8C",
        "colab": {
          "base_uri": "https://localhost:8080/"
        },
        "outputId": "0092a56e-5cdd-4fab-921a-cb925a9dc543"
      },
      "source": [
        "#  Write your solution here:\n",
        "def is_isogram(word):\n",
        "    word = word.lower()  # Convert word to lowercase to ignore letter case\n",
        "    for letter in word:\n",
        "        if word.count(letter) > 1:  # Check if a letter appears more than once\n",
        "            return False\n",
        "    return True\n",
        "\n",
        "# Get input word from the user\n",
        "word = input(\"Enter a word: \")\n",
        "\n",
        "# Check if the word is an isogram and print the result\n",
        "if is_isogram(word):\n",
        "    print(\"The word is isogram\")\n",
        "else:\n",
        "    print(\"The word is not isogram\")\n"
      ],
      "execution_count": null,
      "outputs": [
        {
          "output_type": "stream",
          "name": "stdout",
          "text": [
            "Enter a word: algorithm\n",
            "The word is isogram\n"
          ]
        }
      ]
    },
    {
      "cell_type": "markdown",
      "metadata": {
        "id": "ftOXrP5NUzsZ"
      },
      "source": [
        "---"
      ]
    },
    {
      "cell_type": "markdown",
      "metadata": {
        "id": "BVT9G_baB1aq"
      },
      "source": [
        "#### Activity 2: Does the Cargo Fit?\n",
        "\n",
        "A ship has to transport cargo from one place to another, while picking up cargo along the way. Given the total amount of cargo and the types of cargo holds in the ship as lists, create a function (let's say `will_fit()`) that returns `True` if each weight of cargo can fit in one hold, and `False` if it can't.\n",
        "\n",
        "- \"S\" means 50 cargo space.\n",
        "\n",
        "- \"M\" means 100 cargo space.\n",
        "\n",
        "- \"L\" means 200 cargo space.\n",
        "\n",
        "\n",
        "**Examples**\n",
        "```\n",
        "1. will_fit([\"M\", \"L\", \"L\", \"M\"], [56, 62, 84, 90]) ➞ True\n",
        "\n",
        "2. will_fit([\"S\", \"S\", \"S\", \"S\", \"L\"], [40, 50, 60, 70 , 80, 90, 200]) ➞ False\n",
        "\n",
        "3. will_fit([\"L\", \"L\", \"M\"], [56, 62, 90]) ➞ True\n",
        "\n",
        "```\n",
        "**Hint:** Use dictionary with `S`, `M` and `L` as keys and their respective cargo spaces as values. Calculate total space available in the ship and the total cargos to be shipped and compare them."
      ]
    },
    {
      "cell_type": "code",
      "metadata": {
        "id": "0pIGxKG9B3mb",
        "colab": {
          "base_uri": "https://localhost:8080/"
        },
        "outputId": "fdc56796-c8d0-42d1-931b-cc2ef9459d8b"
      },
      "source": [
        "# Write your solution here:\n",
        "def will_fit(cargo_holds, cargo_weights):\n",
        "    cargo_space = {'S': 50, 'M': 100, 'L': 200}  # Dictionary with cargo space values\n",
        "\n",
        "    total_space = sum(cargo_space[size] for size in cargo_holds)  # Calculate total space available\n",
        "    total_cargo = sum(cargo_weights)  # Calculate total weight of cargo\n",
        "\n",
        "    return total_cargo <= total_space  # Check if total cargo weight fits in total space available\n",
        "\n",
        "# Example test cases\n",
        "print(will_fit([\"M\", \"L\", \"L\", \"M\"], [56, 62, 84, 90]))  # True\n",
        "print(will_fit([\"S\", \"S\", \"S\", \"S\", \"L\"], [40, 50, 60, 70 , 80, 90, 200]))  # False\n",
        "print(will_fit([\"L\", \"L\", \"M\"], [56, 62, 90]))  # True\n"
      ],
      "execution_count": null,
      "outputs": [
        {
          "output_type": "stream",
          "name": "stdout",
          "text": [
            "True\n",
            "False\n",
            "True\n"
          ]
        }
      ]
    },
    {
      "cell_type": "markdown",
      "metadata": {
        "id": "IJIZASayCpEW"
      },
      "source": [
        "---"
      ]
    },
    {
      "cell_type": "markdown",
      "metadata": {
        "id": "JNNwtcANPrQO"
      },
      "source": [
        "---"
      ]
    }
  ]
}