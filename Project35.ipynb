{
  "nbformat": 4,
  "nbformat_minor": 0,
  "metadata": {
    "colab": {
      "provenance": [],
      "include_colab_link": true
    },
    "kernelspec": {
      "name": "python3",
      "display_name": "Python 3"
    }
  },
  "cells": [
    {
      "cell_type": "markdown",
      "metadata": {
        "id": "view-in-github",
        "colab_type": "text"
      },
      "source": [
        "<a href=\"https://colab.research.google.com/github/KartheekAnusuri/Applied-Tech/blob/main/Project35.ipynb\" target=\"_parent\"><img src=\"https://colab.research.google.com/assets/colab-badge.svg\" alt=\"Open In Colab\"/></a>"
      ]
    },
    {
      "cell_type": "markdown",
      "metadata": {
        "id": "YZnBY81YDCCr"
      },
      "source": [
        "### Instructions"
      ]
    },
    {
      "cell_type": "markdown",
      "metadata": {
        "id": "bEyBzxYRhrLG"
      },
      "source": [
        "#### Goal of the Project\n",
        "\n",
        "This project is designed for you to practice and solve the activities that are based on the concepts covered in the following lessons:\n",
        "\n",
        "1. Python Lists\n",
        "\n",
        "2. String Operations I\n",
        "\n",
        "\n",
        "\n"
      ]
    },
    {
      "cell_type": "markdown",
      "metadata": {
        "id": "CYhBESEeeRzk"
      },
      "source": [
        "---"
      ]
    },
    {
      "cell_type": "markdown",
      "metadata": {
        "id": "DPOFIO3EHncO"
      },
      "source": [
        "---"
      ]
    },
    {
      "cell_type": "markdown",
      "metadata": {
        "id": "8f6-uc0r9Q4h"
      },
      "source": [
        "### Activities"
      ]
    },
    {
      "cell_type": "markdown",
      "metadata": {
        "id": "q4fH06mIjuK3"
      },
      "source": [
        "#### Activity 1: Array Flipping\n",
        "\n",
        "Create a function that flips a horizontal list into a vertical list, and a vertical list into a horizontal list.\n",
        "\n",
        "In other words, take a $1$ X $n$ list (1 row and n columns) and flip it into a $n$ X $1$ list (n rows and 1 column) and vice versa.\n",
        "\n",
        "**Constraint**:\n",
        "\n",
        "- If given an empty list `[]`, return an empty list `[]`.\n",
        "\n",
        "**Examples**\n",
        "```\n",
        "flip_list([1, 2, 3, 4]) ➞ [[1], [2], [3], [4]]\n",
        "# Take a horizontal list and flip it vertical.\n",
        "\n",
        "flip_list([[5], [6], [9]]) ➞ [5, 6, 9]\n",
        "# Take a vertical list and flip it horizontal.\n",
        "\n",
        "flip_list([]) ➞ []\n",
        "```"
      ]
    },
    {
      "cell_type": "code",
      "metadata": {
        "id": "4EAoTskqg041",
        "colab": {
          "base_uri": "https://localhost:8080/"
        },
        "outputId": "9cabdfbb-faac-4be5-8b2f-385db347f72d"
      },
      "source": [
        "# Write a function to flip the list\n",
        "def flip_list(lst):\n",
        "    # If the input list is empty, return an empty list\n",
        "    if not lst:\n",
        "        return []\n",
        "\n",
        "    # Check if the input list is horizontal (1 x n)\n",
        "    if isinstance(lst[0], int):\n",
        "        return [[x] for x in lst]\n",
        "    # Check if the input list is vertical (n x 1)\n",
        "    elif isinstance(lst[0], list):\n",
        "        return [x[0] for x in lst]\n",
        "    else:\n",
        "        # Invalid input, return an empty list\n",
        "        return []\n",
        "\n",
        "# Test cases\n",
        "print(flip_list([1, 2, 3, 4]))\n",
        "print(flip_list([[5], [6], [9]]))\n",
        "print(flip_list([]))"
      ],
      "execution_count": null,
      "outputs": [
        {
          "output_type": "stream",
          "name": "stdout",
          "text": [
            "[[1], [2], [3], [4]]\n",
            "[5, 6, 9]\n",
            "[]\n"
          ]
        }
      ]
    },
    {
      "cell_type": "markdown",
      "metadata": {
        "id": "xJlPs9X9oeRw"
      },
      "source": [
        "---"
      ]
    },
    {
      "cell_type": "markdown",
      "metadata": {
        "id": "qA-b1CdeofKc"
      },
      "source": [
        "#### Activity 2: Happy Numbers\n",
        "\n",
        "We are given a list of `0`s and `1`s, like the one below:\n",
        "```\n",
        "[0, 1, 0, 0, 0, 1, 1, 1, 0, 1]\n",
        "\n",
        "# The first element, a '0', and the last element, a '1' both are unhappy.\n",
        "# The second element, a '1' is unhappy.\n",
        "# The second-to-last element, a '0' is unhappy.\n",
        "# All other numbers in this list are happy.\n",
        "```\n",
        "\n",
        "A `1` is unhappy if the digit to its left and the digit to its right are both `0`s. A `0` is unhappy if the digit to its left and the digit to its right are both `1`s. If a number has only one neighbour, it is unhappy if its only neighbour is different. Otherwise, a number is happy.\n",
        "\n",
        "Write a function that takes in a list of `0`s and `1`s and outputs the percentage of numbers which are happy. The total percentage of numbers which are happy can be represented as:\n",
        "\n",
        "\n",
        "\n",
        "$$\\text{Percentage of happy numbers = }\\frac{\\text{number of happy 0s + number of happy 1s}} {\\text{total numbers}}\\times \\left (100\\right)$$\n",
        "\n",
        "In the example above, percentage of happy numbers is $60 \\%$ ."
      ]
    },
    {
      "cell_type": "code",
      "metadata": {
        "id": "AtvPTG3kpBoS",
        "colab": {
          "base_uri": "https://localhost:8080/"
        },
        "outputId": "970e6689-71cd-4291-8856-b71f5a509e34"
      },
      "source": [
        "# Write your solution here\n",
        "def is_happy(number, left, right):\n",
        "    # Check if the number has only one neighbor\n",
        "    if left is None and right is None:\n",
        "        return True\n",
        "    # Check if the number is unhappy\n",
        "    return (number == 0 and left == 1 and right == 1) or (number == 1 and left == 0 and right == 0)\n",
        "\n",
        "def percentage_of_happy_numbers(nums):\n",
        "    happy_count = 0\n",
        "\n",
        "    for i, num in enumerate(nums):\n",
        "        left = nums[i - 1] if i > 0 else None\n",
        "        right = nums[i + 1] if i < len(nums) - 1 else None\n",
        "\n",
        "        if is_happy(num, left, right):\n",
        "            happy_count += 1\n",
        "\n",
        "    # Calculate the percentage of happy numbers\n",
        "    total_numbers = len(nums)\n",
        "    happy_percentage = (happy_count / total_numbers) * 100\n",
        "    return happy_percentage\n",
        "\n",
        "# Test case\n",
        "nums = [0, 1, 0, 0, 0, 1, 1, 1, 0, 1]\n",
        "print(percentage_of_happy_numbers(nums))"
      ],
      "execution_count": null,
      "outputs": [
        {
          "output_type": "stream",
          "name": "stdout",
          "text": [
            "20.0\n"
          ]
        }
      ]
    },
    {
      "cell_type": "markdown",
      "metadata": {
        "id": "KOVBiUSMzut1"
      },
      "source": [
        "---"
      ]
    },
    {
      "cell_type": "markdown",
      "metadata": {
        "id": "r7kLxzlwejDa"
      },
      "source": [
        "---"
      ]
    }
  ]
}