{
  "nbformat": 4,
  "nbformat_minor": 0,
  "metadata": {
    "colab": {
      "provenance": [],
      "include_colab_link": true
    },
    "kernelspec": {
      "name": "python3",
      "display_name": "Python 3"
    }
  },
  "cells": [
    {
      "cell_type": "markdown",
      "metadata": {
        "id": "view-in-github",
        "colab_type": "text"
      },
      "source": [
        "<a href=\"https://colab.research.google.com/github/KartheekAnusuri/Applied-Tech/blob/main/Project16.ipynb\" target=\"_parent\"><img src=\"https://colab.research.google.com/assets/colab-badge.svg\" alt=\"Open In Colab\"/></a>"
      ]
    },
    {
      "cell_type": "markdown",
      "metadata": {
        "id": "YZnBY81YDCCr"
      },
      "source": [
        "### Instructions"
      ]
    },
    {
      "cell_type": "markdown",
      "metadata": {
        "id": "fIKnY8occu37"
      },
      "source": [
        "#### Goal of the Project\n",
        "\n",
        "This project is designed for you to practice and solve the activities that are based on the concepts covered in the following lessons:\n",
        "\n",
        "1. While Loop, Data-Type Conversion and Conditional Statements\n",
        "\n",
        "2. Python Lists\n"
      ]
    },
    {
      "cell_type": "markdown",
      "metadata": {
        "id": "BBqkpH4_Doqe"
      },
      "source": [
        "---"
      ]
    },
    {
      "cell_type": "markdown",
      "metadata": {
        "id": "H0P9F3DUf8x2"
      },
      "source": [
        "### Activities\n",
        "\n",
        "\n",
        "  "
      ]
    },
    {
      "cell_type": "markdown",
      "metadata": {
        "id": "q4fH06mIjuK3"
      },
      "source": [
        "#### Activity 1: Check whether Square root equals to Cube root\n",
        "\n",
        "Create a function that takes a list of two numbers and checks if the square root of first number is equal to the cube root of second number.\n",
        "\n",
        "**Examples**:\n",
        "```\n",
        "1. check_square_and_cube([4, 8]) ➞ True\n",
        "\n",
        "2. check_square_and_cube([16, 48]) ➞ False\n",
        "\n",
        "3. check_square_and_cube([9, 27]) ➞ True\n",
        "```\n",
        "**Notes**\n",
        "\n",
        "- Remember to return either True or False.\n",
        "\n",
        "- All lists contain only two positive numbers."
      ]
    },
    {
      "cell_type": "code",
      "metadata": {
        "id": "4EAoTskqg041",
        "colab": {
          "base_uri": "https://localhost:8080/"
        },
        "outputId": "cd72d6e0-d2a8-46b9-f09d-b912ddb240ea"
      },
      "source": [
        "# Check if the Square root of the First number is Equal to the Cube root of the Second number\n",
        "def check_square_and_cube(numbers):\n",
        "    # Unpack the two numbers from the list\n",
        "    num1, num2 = numbers\n",
        "\n",
        "    # Calculate the square root of the first number\n",
        "    square_root = num1 ** 0.5\n",
        "\n",
        "    # Calculate the cube root of the second number\n",
        "    cube_root = num2 ** (1/3)\n",
        "\n",
        "    # Compare the square root and cube root and return True if they are equal, otherwise return False\n",
        "    return square_root == cube_root\n",
        "\n",
        "# Test cases\n",
        "print(check_square_and_cube([4, 8]))   # Output: True\n",
        "print(check_square_and_cube([16, 48]))  # Output: False\n",
        "print(check_square_and_cube([9, 27]))   # Output: True"
      ],
      "execution_count": null,
      "outputs": [
        {
          "output_type": "stream",
          "name": "stdout",
          "text": [
            "True\n",
            "False\n",
            "True\n"
          ]
        }
      ]
    },
    {
      "cell_type": "markdown",
      "metadata": {
        "id": "xJlPs9X9oeRw"
      },
      "source": [
        "---"
      ]
    },
    {
      "cell_type": "markdown",
      "metadata": {
        "id": "qA-b1CdeofKc"
      },
      "source": [
        "#### Activity 2: Find Sum of the Series\n",
        "\n",
        "Write a function which takes a natural number $n$ (where $1\\leq n \\leq 9$) as an input and returns the sum of the series having $n$ number of numbers such that the series is $n, nn, nnn, \\dots nnn \\dots n $ times.\n",
        "\n",
        "\n",
        "Hence, the required sum is\n",
        "\n",
        "$$n + nn + nnn + \\dots + nnn \\dots n $$\n",
        "\n",
        "For e.g.,\n",
        "\n",
        "- For $n = 1$, the required sum is $1$\n",
        "\n",
        "- For $n = 2$, the required sum is $2 + 22 = 24$\n",
        "\n",
        "- For $n = 3$, the required sum is $3 + 33 + 333 = 369$\n",
        "\n",
        "- For $n = 4$, the required sum is $4 + 44 + 444 + 4,444 = 4936$\n",
        "\n",
        " $\\dots$\n",
        "\n",
        "- For $n = 9$, the required sum is $9 + 99 + 999 + \\dots + 999,999,999 = 1111111101$\n",
        "\n",
        "After creating the function, print the required outputs for all the numbers from 1 to 9.\n",
        "\n",
        "**Expected Output:**\n",
        "````\n",
        "1\n",
        "24\n",
        "369\n",
        "4936\n",
        "61725\n",
        "740736\n",
        "8641969\n",
        "98765424\n",
        "1111111101\n",
        "````\n",
        "\n",
        "Follow the steps given below to achieve the desired result:\n",
        "\n",
        "- Define a function `sum_series()` and pass `n` as a parameter that indicates the number for which we need to generate the series.\n",
        "\n",
        "  Inside this function, perform the following steps:\n",
        "\n",
        "  - **Step 1**: Initialize 3 variables:\n",
        "\n",
        "    1. `max_num = 0`, This is the largest n-digit number having only `n` at all of its places.\n",
        "\n",
        "    2. `total = 0`, This variable will store sum of all the numbers.\n",
        "\n",
        "    3. `count = n - 1`, The `count` variable is used to iterate through the first `while` loop.\n",
        "\n",
        "  - **Step 2**: Define a `while` loop with condition `count >= 0`. Inside this  `while` loop,\n",
        "  \n",
        "    1. Calculate the maximum number in the series using `max_num = max_num + (10 ** count) * n`.\n",
        "    \n",
        "    2. Decrement the value of `count` by `1`.\n",
        "\n",
        "  - **Step 3**: Define another `while` loop (outside the 1st `while` loop) with condition `n > 0`. Inside the second `while` loop,\n",
        "  \n",
        "    1. Add the current `max_num` value to the `total` variable.\n",
        "    \n",
        "    2. Divide the current `max_num` value by '10' to get an `(n-1)` digit number.\n",
        "\n",
        "    3. Decrement the value of `n` by `1` each time the loop is executed.\n",
        "\n",
        "  - **Step 4**: Print the value stored in `total` variable outside the `while` loop which will be holding the expected result.\n",
        "\n",
        "- Finally, call the function `sum_series()` inside a `for` loop to pass numbers from 1 to 9 as parameters to the function."
      ]
    },
    {
      "cell_type": "code",
      "metadata": {
        "id": "AtvPTG3kpBoS",
        "colab": {
          "base_uri": "https://localhost:8080/"
        },
        "outputId": "5d9b53c7-f10b-4a02-f323-433f898c0633"
      },
      "source": [
        "# Print sum of series\n",
        "def sum_series(n):\n",
        "    max_num = 0\n",
        "    total = 0\n",
        "    count = n - 1\n",
        "\n",
        "    while count >= 0:\n",
        "        max_num = max_num + (10 ** count) * n\n",
        "        count -= 1\n",
        "\n",
        "    while n > 0:\n",
        "        total += max_num\n",
        "        max_num //= 10\n",
        "        n -= 1\n",
        "\n",
        "    return total\n",
        "\n",
        "# Calculate and print the required outputs for numbers from 1 to 9\n",
        "for n in range(1, 10):\n",
        "    print(sum_series(n))"
      ],
      "execution_count": null,
      "outputs": [
        {
          "output_type": "stream",
          "name": "stdout",
          "text": [
            "1\n",
            "24\n",
            "369\n",
            "4936\n",
            "61725\n",
            "740736\n",
            "8641969\n",
            "98765424\n",
            "1111111101\n"
          ]
        }
      ]
    },
    {
      "cell_type": "markdown",
      "metadata": {
        "id": "fgW8LAyjEaEH"
      },
      "source": [
        "**Q**: What is the sum of series for `n = 7`?\n",
        "\n",
        "**A**: 8641969"
      ]
    },
    {
      "cell_type": "markdown",
      "metadata": {
        "id": "KOVBiUSMzut1"
      },
      "source": [
        "---"
      ]
    },
    {
      "cell_type": "markdown",
      "metadata": {
        "id": "JaVBzaGFRIh-"
      },
      "source": [
        "---"
      ]
    }
  ]
}